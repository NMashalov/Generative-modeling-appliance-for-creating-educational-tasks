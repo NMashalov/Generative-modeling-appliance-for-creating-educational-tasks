{
 "cells": [
  {
   "cell_type": "code",
   "execution_count": null,
   "metadata": {},
   "outputs": [],
   "source": [
    "!apt-get update \\\n",
    "  && apt-get -y install wget ghostscript tesseract-ocr tesseract-ocr-rus djvulibre-bin "
   ]
  }
 ],
 "metadata": {
  "language_info": {
   "name": "python"
  }
 },
 "nbformat": 4,
 "nbformat_minor": 2
}
